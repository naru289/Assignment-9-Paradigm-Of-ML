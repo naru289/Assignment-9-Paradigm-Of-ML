{
  "nbformat": 4,
  "nbformat_minor": 0,
  "metadata": {
    "colab": {
      "private_outputs": true,
      "provenance": [],
      "include_colab_link": true
    },
    "kernelspec": {
      "name": "python3",
      "display_name": "Python 3"
    },
    "language_info": {
      "name": "python"
    }
  },
  "cells": [
    {
      "cell_type": "markdown",
      "metadata": {
        "id": "view-in-github",
        "colab_type": "text"
      },
      "source": [
        "<a href=\"https://colab.research.google.com/github/naru289/Assignment-9-Paradigm-Of-ML/blob/main/Pickle.ipynb\" target=\"_parent\"><img src=\"https://colab.research.google.com/assets/colab-badge.svg\" alt=\"Open In Colab\"/></a>"
      ]
    },
    {
      "cell_type": "markdown",
      "metadata": {
        "id": "3zTvb_TZ7wMT"
      },
      "source": [
        "### Pickling files\n",
        "\n",
        "To use pickle, start by importing it in Python."
      ]
    },
    {
      "cell_type": "code",
      "metadata": {
        "id": "dpvm7dPT7sG5"
      },
      "source": [
        "import pickle"
      ],
      "execution_count": null,
      "outputs": []
    },
    {
      "cell_type": "markdown",
      "metadata": {
        "id": "2Lk8uJ_975p2"
      },
      "source": [
        "Here we will pickle a simple dictionary. A dictionary is a list of key : value elements. We will save it to a file and then load again"
      ]
    },
    {
      "cell_type": "code",
      "metadata": {
        "id": "OMo5rPIA71Nl"
      },
      "source": [
        "dogs_dict = { 'Ozzy': 3, 'Filou': 8, 'Luna': 5, 'Skippy': 10, 'Barco': 12, 'Balou': 9, 'Laika': 16 }"
      ],
      "execution_count": null,
      "outputs": []
    },
    {
      "cell_type": "markdown",
      "metadata": {
        "id": "7AwjiMu48DX2"
      },
      "source": [
        "To pickle this dictionary, we first need to specify the name of the file to write it to, which is dogs in this case.\n",
        "\n",
        "Note that the file does not have an extension"
      ]
    },
    {
      "cell_type": "markdown",
      "metadata": {
        "id": "WaXWW63X8OMY"
      },
      "source": [
        "To open the file for writing, we will use the open() function. The first argument should be the filename. The second argument is 'wb'. The w means that you'll be writing to the file, and b refers to binary mode. This means that the data will be written in the form of byte objects. If we forget the 'b', a TypeError: must be str, not bytes will be returned. You may sometimes come across a slightly different notation; w+b, it provides the same functionality."
      ]
    },
    {
      "cell_type": "code",
      "metadata": {
        "id": "J5sXfsKH8JLf"
      },
      "source": [
        "filename = 'dogs'\n",
        "outfile = open(filename,'wb')"
      ],
      "execution_count": null,
      "outputs": []
    },
    {
      "cell_type": "markdown",
      "metadata": {
        "id": "LRIl5ab38k7A"
      },
      "source": [
        "Once the file is opened for writing, you can use pickle.dump(), which takes two arguments: the object we want to pickle and the file to which the object has to be saved. In this case, the former will be dogs_dict, while the latter will be outfile"
      ]
    },
    {
      "cell_type": "code",
      "metadata": {
        "id": "pzGW52PN8hQW"
      },
      "source": [
        "pickle.dump(dogs_dict,outfile)\n",
        "# Close the file\n",
        "outfile.close()"
      ],
      "execution_count": null,
      "outputs": []
    },
    {
      "cell_type": "markdown",
      "metadata": {
        "id": "-oJiLnop838h"
      },
      "source": [
        "### Unpickling files\n",
        "\n",
        "The process of loading a pickled file back into a Python program is similar to the one we saw previously: use the open() function again, but this time with 'rb' as second argument (instead of wb). The 'r' stands for read mode and the 'b' stands for binary mode. we'll be reading a binary file. Assign this to infile.\n",
        "\n",
        "\n",
        "Next, use pickle.load(), with infile as argument, and assign it to new_dict. The contents of the file are now assigned to this new variable. Again, we need to close the file at the end."
      ]
    },
    {
      "cell_type": "code",
      "metadata": {
        "id": "KVMJLTmd9F0R"
      },
      "source": [
        "infile = open(filename,'rb')\n",
        "new_dict = pickle.load(infile)\n",
        "infile.close()"
      ],
      "execution_count": null,
      "outputs": []
    },
    {
      "cell_type": "code",
      "metadata": {
        "id": "vXtdWMwl9Irp"
      },
      "source": [
        "print(new_dict)\n",
        "print(new_dict==dogs_dict)\n",
        "print(type(new_dict))"
      ],
      "execution_count": null,
      "outputs": []
    }
  ]
}